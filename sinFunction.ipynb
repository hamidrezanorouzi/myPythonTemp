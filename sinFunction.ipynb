{
  "nbformat": 4,
  "nbformat_minor": 0,
  "metadata": {
    "colab": {
      "provenance": [],
      "authorship_tag": "ABX9TyMdLif9CNFKXJrlwuyOGaz7",
      "include_colab_link": true
    },
    "kernelspec": {
      "name": "python3",
      "display_name": "Python 3"
    },
    "language_info": {
      "name": "python"
    }
  },
  "cells": [
    {
      "cell_type": "markdown",
      "metadata": {
        "id": "view-in-github",
        "colab_type": "text"
      },
      "source": [
        "<a href=\"https://colab.research.google.com/github/hamidrezanorouzi/myPythonTemp/blob/main/sinFunction.ipynb\" target=\"_parent\"><img src=\"https://colab.research.google.com/assets/colab-badge.svg\" alt=\"Open In Colab\"/></a>"
      ]
    },
    {
      "cell_type": "markdown",
      "source": [
        "# Preparing the input data"
      ],
      "metadata": {
        "id": "QVtoH-YYaL-6"
      }
    },
    {
      "cell_type": "code",
      "execution_count": 22,
      "metadata": {
        "id": "GgUQl8MySqrU"
      },
      "outputs": [],
      "source": [
        "import numpy as np\n",
        "\n",
        "n = 10\n",
        "trainingSetLen = 6;\n",
        "noiseMag = 0.01\n",
        "x = np.linspace(-1,1, num = n)\n",
        "np.random.shuffle(x)\n",
        "epsilon = noiseMag * (2*np.random.rand(n)-1)\n",
        "y = np.sin(2*np.pi*x)+epsilon\n",
        "\n",
        "x_train = x[0:trainingSetLen]\n",
        "y_train = y[0:trainingSetLen]\n",
        "x_valid = x[trainingSetLen:]\n",
        "y_valid = y[trainingSetLen:]"
      ]
    },
    {
      "cell_type": "markdown",
      "source": [
        "# Building model"
      ],
      "metadata": {
        "id": "wlzxD7-QaG34"
      }
    },
    {
      "cell_type": "code",
      "source": [
        "from tensorflow import keras\n",
        "from tensorflow.keras import layers\n",
        "\n",
        "def buildModel():\n",
        "  model = keras.Sequential([\n",
        "      layers.Dense(64,activation='relu'),\n",
        "      layers.Dense(64,activation='relu'),\n",
        "      layers.Dense(1,activation='relu')\n",
        "  ])\n",
        "  model.compile(optimizer='rmsprop', loss='mse', metrics=['mae'])\n",
        "  return model\n",
        "model = buildModel()\n",
        "model.summary\n"
      ],
      "metadata": {
        "colab": {
          "base_uri": "https://localhost:8080/"
        },
        "id": "-gDPCQuSVA_l",
        "outputId": "66b51bf9-e192-46e5-b84f-620e67928098"
      },
      "execution_count": 23,
      "outputs": [
        {
          "output_type": "execute_result",
          "data": {
            "text/plain": [
              "<bound method Model.summary of <keras.engine.sequential.Sequential object at 0x7b8e44ceda20>>"
            ]
          },
          "metadata": {},
          "execution_count": 23
        }
      ]
    }
  ]
}