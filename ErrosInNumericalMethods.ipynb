{
  "nbformat": 4,
  "nbformat_minor": 0,
  "metadata": {
    "colab": {
      "provenance": [],
      "authorship_tag": "ABX9TyMGgW3juiC9dZVmhcKGSXPo",
      "include_colab_link": true
    },
    "kernelspec": {
      "name": "python3",
      "display_name": "Python 3"
    },
    "language_info": {
      "name": "python"
    }
  },
  "cells": [
    {
      "cell_type": "markdown",
      "metadata": {
        "id": "view-in-github",
        "colab_type": "text"
      },
      "source": [
        "<a href=\"https://colab.research.google.com/github/hamidrezanorouzi/pythonTempFiles/blob/main/ErrosInNumericalMethods.ipynb\" target=\"_parent\"><img src=\"https://colab.research.google.com/assets/colab-badge.svg\" alt=\"Open In Colab\"/></a>"
      ]
    },
    {
      "cell_type": "markdown",
      "source": [
        "# **Errors in Numerical Methods**\n",
        "\n",
        "This document is a part of the course lectures of **`numeical methods in chemical engineering`**, the B.Sc. course at Amirkabir univeristy of Technology."
      ],
      "metadata": {
        "id": "zKCFK_wccRQG"
      }
    },
    {
      "cell_type": "markdown",
      "source": [
        "## 1) Why do we use numerical methods in chemical engineering?\n",
        "\n",
        "We always deal with mathematical equations in real-world engineering problems:\n",
        "*   We describe physical phenomena using mathematical equations\n",
        "*   We use mathematical equations to relate physical properties to state variables (Temperature, pressure, etc.)\n",
        "*   We deal with measured data and we need to perform data reduction (finding a mathematical relation between variables) or directly use them in engineering computations\n",
        "\n",
        "To solve an engineering problem, a bunch of mathematical equations are present. we always need numeical methods and computers to solve the equations and perform the required calculations.  \n",
        "\n",
        "\n",
        "\n",
        "\n"
      ],
      "metadata": {
        "id": "cUgOnjysiVG-"
      }
    },
    {
      "cell_type": "markdown",
      "source": [
        "# 2) Numerical methods and quantifying errors\n",
        "## 2-1) True error\n",
        "* A Numecial method employs **approximations** to represent an equation or to  calculate the exact quantities.\n",
        "* Therefore, we are always some deviations from exact solution, called **error**. So, we always have:\n",
        "$$\n",
        "trueValue = approximation + error  \\tag{1}\n",
        "$$\n",
        "\n",
        "* Rearranging the above equaiton will give **true error**:\n",
        "$$\n",
        "E_{t} = trueValue - approximation \\tag{2}\n",
        "$$\n",
        "\n",
        "* Eq. (2) does not reflect the magnitude of the numbers. So we use relative errors, usaully expressed in precent, **true percent relative error**:\n",
        "$$\n",
        "ϵ_{t}=\\frac{trueValue-approximation}{trueValue} * 100\\% \\tag{3}\n",
        "$$\n",
        "note that we always use the **absolute** of the above value as error.\n",
        "\n",
        "&nbsp;\n",
        "\n",
        "### ❓ **Example 1:**\n",
        "Compute the true error and true percent relative error in the following meaturements:\n",
        "\n",
        "(A) A pen: true length = 10 cm, measured leangth = 11 cm\n",
        "\n",
        "(B) A pipe: true length = 1000 cm,  measured length = 1001 cm\n",
        "\n",
        "### 💡 *solution*\n",
        "\n",
        "(A)\n",
        "\n",
        "$$\n",
        "E_{t}= |11 - 10| = 1 \\ cm \\\\\n",
        "ϵ_{t}=|\\frac{10-11}{10}|*100\\% = 10\\%\n",
        "$$\n",
        "(B)\n",
        "$$\n",
        "E_{t}= |1000 - 1001| = 1 \\ cm \\\\\n",
        "ϵ_{t}=|\\frac{1000-1001}{1000}|*100\\% = 0.1\\%\n",
        "$$\n"
      ],
      "metadata": {
        "id": "HpFkDel3lzrR"
      }
    },
    {
      "cell_type": "markdown",
      "source": [
        "## 2-2) Approximate error\n",
        "* In numerical methods, we usually have approximation error instead of true error. So we define the approximation error as:\n",
        "$$\n",
        "ϵ_{a}=\\frac{approximation \\ error}{approximation} × 100\\% \\tag{4}\n",
        "$$\n",
        "\n",
        "* and in iterative methods, we rewrite the equation as:\n",
        "$$\n",
        "ϵ_{a}=\\frac{present \\ approximation - previous \\ approximation}{present \\ approximation} × 100\\% \\tag{5}\n",
        "$$"
      ],
      "metadata": {
        "id": "bhgGNszSh1oi"
      }
    },
    {
      "cell_type": "markdown",
      "source": [
        "### ❓ **Example 2:**\n",
        "Approximate the exponential function at x = 0.5 using McLaurin\n",
        "series. The approximated value should have 0.05% precision.\n",
        "$$\n",
        "e^x = 1+x+\\frac{x^2}{2!}+\\frac{x^3}{3!}+...+\\frac{x^n}{n!}\n",
        "$$\n",
        "\n",
        "### 💡 *solution*\n",
        "We stop adding terms from Mclaurin series when the relative precent approximate error is less than 0.05%."
      ],
      "metadata": {
        "id": "VVsa7Nrdpnhc"
      }
    },
    {
      "cell_type": "code",
      "source": [
        "import numpy as np\n",
        "x = 0.5\n",
        "term = 1\n",
        "app = term\n",
        "prevApp = app\n",
        "trueValue = np.exp(x)\n",
        "\n",
        "print(\"%7s|%14s|%14s|%14s\" %(\"Terms\",\"Approxiamte\",\"true Error (%)\",\"App. Error (%)\"))\n",
        "\n",
        "for i in range(1,30):\n",
        "  term *= x/(i)\n",
        "  app += term\n",
        "  ep = np.abs(trueValue-app)/trueValue*100\n",
        "  eApp = np.abs(prevApp-app)/app*100\n",
        "  prevApp = app\n",
        "  print(\"%7d|%14.6f|%14.6f|%14.6f\" %(i+1, app, ep, eApp) )\n",
        "  if eApp<0.05:\n",
        "    break\n"
      ],
      "metadata": {
        "id": "DZ7slj9Zlwh4",
        "colab": {
          "base_uri": "https://localhost:8080/"
        },
        "outputId": "7b9267d1-e72d-4465-f717-7e026ec6e0ca"
      },
      "execution_count": null,
      "outputs": [
        {
          "output_type": "stream",
          "name": "stdout",
          "text": [
            "  Terms|   Approxiamte| trueError (%)|App. Error (%)\n",
            "      2|      1.500000|      9.020401|     33.333333\n",
            "      3|      1.625000|      1.438768|      7.692308\n",
            "      4|      1.645833|      0.175162|      1.265823\n",
            "      5|      1.648438|      0.017212|      0.157978\n",
            "      6|      1.648698|      0.001416|      0.015795\n"
          ]
        }
      ]
    },
    {
      "cell_type": "markdown",
      "source": [
        "# 3) Representation of numbers in computers\n",
        "## 3-1) Integer numbers  \n",
        "* Numbers are stored in the memory of the computer in binary (base 2) form.\n",
        "* Each binray digit (may contain 0 or 1) is called a bit.\n",
        "* An integer number with base 10 is first converted to base 2 and then are stored in the bits of memory with zeros and ones.\n",
        "* For example 173 in base-10 can be represented in binray:\n",
        "$$\n",
        "(10101101)_{2} = 1\\times 2^7 + 0\\times2^6 + 1\\times 2^5 + 0 \\times2^4 + 1\\times2^3 + 1\\times2^2 + 0 \\times 2^1 + 1 \\times 2^0 = (173)_{10}\n",
        "$$"
      ],
      "metadata": {
        "id": "y8EOE1vSFfbW"
      }
    },
    {
      "cell_type": "code",
      "execution_count": 33,
      "metadata": {
        "id": "u3W-LDoRZbfu",
        "colab": {
          "base_uri": "https://localhost:8080/"
        },
        "outputId": "a2f2d3b8-b7e9-4329-f850-ab5778574347"
      },
      "outputs": [
        {
          "output_type": "stream",
          "name": "stdout",
          "text": [
            "decimal: 173 ==> binray: 0b10101101\n",
            "decimal: -173 ==> binray: -0b10101101\n",
            "decimal: 65536 ==> binray: 0b10000000000000000\n",
            "decimal: 4294967296 ==> binray: 0b100000000000000000000000000000000\n",
            "type of variable c is <class 'int'>\n"
          ]
        }
      ],
      "source": [
        "a: int = 173\n",
        "b = pow(2,16)\n",
        "c = pow(2,32)\n",
        "\n",
        "print(f'decimal: {a} ==> binray: {bin(a)}')\n",
        "print(f'decimal: {-a} ==> binray: {bin(-a)}')\n",
        "print(f'decimal: {b} ==> binray: {bin(b)}')\n",
        "print(f'decimal: {c} ==> binray: {bin(c)}')\n",
        "print(f'type of variable c is {type(c)}')"
      ]
    },
    {
      "cell_type": "markdown",
      "source": [
        "* In python, the length of integer numbers (number of bits dedicated to it) is unlimited. So we can store very large integers in memory.\n",
        "* In other languages like, C, C++ and Fortran, we need to specify the length of integer number. For example in C++, we may use 8 (`char`), 16 (`short`), 32 (`int`)or 64 (`long int`) bits for integer numbers."
      ],
      "metadata": {
        "id": "VBpOC0ZCp6PX"
      }
    },
    {
      "cell_type": "markdown",
      "source": [
        "## 3-2) Floating point numbers\n",
        "* Large and small floating point numbers can be represented using decimal notation (also called scientific notation):\n",
        "$$\n",
        "d.dddddd \\times10^p\n",
        "$$"
      ],
      "metadata": {
        "id": "dOo5n1FQQWnt"
      }
    }
  ]
}